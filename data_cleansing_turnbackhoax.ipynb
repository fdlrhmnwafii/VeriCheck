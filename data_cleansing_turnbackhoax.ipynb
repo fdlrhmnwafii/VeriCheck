{
  "nbformat": 4,
  "nbformat_minor": 0,
  "metadata": {
    "colab": {
      "provenance": []
    },
    "kernelspec": {
      "name": "python3",
      "display_name": "Python 3"
    },
    "language_info": {
      "name": "python"
    }
  },
  "cells": [
    {
      "cell_type": "code",
      "execution_count": 1,
      "metadata": {
        "id": "aPIRMvVyNX24"
      },
      "outputs": [],
      "source": [
        "import pandas as pd\n",
        "import matplotlib.pyplot as plt\n",
        "import seaborn as sns\n",
        "\n",
        "import re"
      ]
    },
    {
      "cell_type": "markdown",
      "source": [
        "# **Importing Datasets**"
      ],
      "metadata": {
        "id": "x-8ztNByTMC9"
      }
    },
    {
      "cell_type": "code",
      "source": [
        "df = pd.read_csv('data_turnbachoax_dirty.csv')"
      ],
      "metadata": {
        "id": "7pvjhaQqTJR9"
      },
      "execution_count": 114,
      "outputs": []
    },
    {
      "cell_type": "code",
      "source": [
        "df.head()"
      ],
      "metadata": {
        "colab": {
          "base_uri": "https://localhost:8080/",
          "height": 642
        },
        "id": "esXuIJykTa1f",
        "outputId": "57a44d12-7238-48c4-c90e-c67a2db6b338"
      },
      "execution_count": 115,
      "outputs": [
        {
          "output_type": "execute_result",
          "data": {
            "text/plain": [
              "                                            headline               time  \\\n",
              "0  [SALAH] Konvoi Bantuan Palestina Dirampas oleh...  November 25, 2023   \n",
              "1  [SALAH] Video Polisi Israel Mencekik Anak Pale...  November 23, 2023   \n",
              "2  [SALAH] Video Tentara Israel Memasang Bendera ...  November 23, 2023   \n",
              "3  [SALAH] Perusahaan Israel Pepsi Ubah Kemasan B...  November 23, 2023   \n",
              "4  [SALAH] Cristiano Ronaldo Lempar Mic Wartawan ...  November 22, 2023   \n",
              "\n",
              "                                             content  \\\n",
              "0  Hasil periksa fakta Vendra PanjiDalam video as...   \n",
              "1  Hasil periksa fakta Moch. MarcellodiansyahFakt...   \n",
              "2  Hasil periksa fakta Evarizma Zahra. Konten yan...   \n",
              "3  Hasil periksa fakta Moch. MarcellodiansyahFakt...   \n",
              "4  Hasil periksa fakta Vendra PanjiCR7 melempar m...   \n",
              "\n",
              "                                                link  hoax  \n",
              "0  https://turnbackhoax.id/2023/11/25/salah-konvo...     1  \n",
              "1  https://turnbackhoax.id/2023/11/23/salah-video...     1  \n",
              "2  https://turnbackhoax.id/2023/11/23/salah-video...     1  \n",
              "3  https://turnbackhoax.id/2023/11/23/salah-perus...     1  \n",
              "4  https://turnbackhoax.id/2023/11/22/salah-crist...     1  "
            ],
            "text/html": [
              "\n",
              "  <div id=\"df-cdd2f04b-069e-45ca-814e-af8a8777b498\" class=\"colab-df-container\">\n",
              "    <div>\n",
              "<style scoped>\n",
              "    .dataframe tbody tr th:only-of-type {\n",
              "        vertical-align: middle;\n",
              "    }\n",
              "\n",
              "    .dataframe tbody tr th {\n",
              "        vertical-align: top;\n",
              "    }\n",
              "\n",
              "    .dataframe thead th {\n",
              "        text-align: right;\n",
              "    }\n",
              "</style>\n",
              "<table border=\"1\" class=\"dataframe\">\n",
              "  <thead>\n",
              "    <tr style=\"text-align: right;\">\n",
              "      <th></th>\n",
              "      <th>headline</th>\n",
              "      <th>time</th>\n",
              "      <th>content</th>\n",
              "      <th>link</th>\n",
              "      <th>hoax</th>\n",
              "    </tr>\n",
              "  </thead>\n",
              "  <tbody>\n",
              "    <tr>\n",
              "      <th>0</th>\n",
              "      <td>[SALAH] Konvoi Bantuan Palestina Dirampas oleh...</td>\n",
              "      <td>November 25, 2023</td>\n",
              "      <td>Hasil periksa fakta Vendra PanjiDalam video as...</td>\n",
              "      <td>https://turnbackhoax.id/2023/11/25/salah-konvo...</td>\n",
              "      <td>1</td>\n",
              "    </tr>\n",
              "    <tr>\n",
              "      <th>1</th>\n",
              "      <td>[SALAH] Video Polisi Israel Mencekik Anak Pale...</td>\n",
              "      <td>November 23, 2023</td>\n",
              "      <td>Hasil periksa fakta Moch. MarcellodiansyahFakt...</td>\n",
              "      <td>https://turnbackhoax.id/2023/11/23/salah-video...</td>\n",
              "      <td>1</td>\n",
              "    </tr>\n",
              "    <tr>\n",
              "      <th>2</th>\n",
              "      <td>[SALAH] Video Tentara Israel Memasang Bendera ...</td>\n",
              "      <td>November 23, 2023</td>\n",
              "      <td>Hasil periksa fakta Evarizma Zahra. Konten yan...</td>\n",
              "      <td>https://turnbackhoax.id/2023/11/23/salah-video...</td>\n",
              "      <td>1</td>\n",
              "    </tr>\n",
              "    <tr>\n",
              "      <th>3</th>\n",
              "      <td>[SALAH] Perusahaan Israel Pepsi Ubah Kemasan B...</td>\n",
              "      <td>November 23, 2023</td>\n",
              "      <td>Hasil periksa fakta Moch. MarcellodiansyahFakt...</td>\n",
              "      <td>https://turnbackhoax.id/2023/11/23/salah-perus...</td>\n",
              "      <td>1</td>\n",
              "    </tr>\n",
              "    <tr>\n",
              "      <th>4</th>\n",
              "      <td>[SALAH] Cristiano Ronaldo Lempar Mic Wartawan ...</td>\n",
              "      <td>November 22, 2023</td>\n",
              "      <td>Hasil periksa fakta Vendra PanjiCR7 melempar m...</td>\n",
              "      <td>https://turnbackhoax.id/2023/11/22/salah-crist...</td>\n",
              "      <td>1</td>\n",
              "    </tr>\n",
              "  </tbody>\n",
              "</table>\n",
              "</div>\n",
              "    <div class=\"colab-df-buttons\">\n",
              "\n",
              "  <div class=\"colab-df-container\">\n",
              "    <button class=\"colab-df-convert\" onclick=\"convertToInteractive('df-cdd2f04b-069e-45ca-814e-af8a8777b498')\"\n",
              "            title=\"Convert this dataframe to an interactive table.\"\n",
              "            style=\"display:none;\">\n",
              "\n",
              "  <svg xmlns=\"http://www.w3.org/2000/svg\" height=\"24px\" viewBox=\"0 -960 960 960\">\n",
              "    <path d=\"M120-120v-720h720v720H120Zm60-500h600v-160H180v160Zm220 220h160v-160H400v160Zm0 220h160v-160H400v160ZM180-400h160v-160H180v160Zm440 0h160v-160H620v160ZM180-180h160v-160H180v160Zm440 0h160v-160H620v160Z\"/>\n",
              "  </svg>\n",
              "    </button>\n",
              "\n",
              "  <style>\n",
              "    .colab-df-container {\n",
              "      display:flex;\n",
              "      gap: 12px;\n",
              "    }\n",
              "\n",
              "    .colab-df-convert {\n",
              "      background-color: #E8F0FE;\n",
              "      border: none;\n",
              "      border-radius: 50%;\n",
              "      cursor: pointer;\n",
              "      display: none;\n",
              "      fill: #1967D2;\n",
              "      height: 32px;\n",
              "      padding: 0 0 0 0;\n",
              "      width: 32px;\n",
              "    }\n",
              "\n",
              "    .colab-df-convert:hover {\n",
              "      background-color: #E2EBFA;\n",
              "      box-shadow: 0px 1px 2px rgba(60, 64, 67, 0.3), 0px 1px 3px 1px rgba(60, 64, 67, 0.15);\n",
              "      fill: #174EA6;\n",
              "    }\n",
              "\n",
              "    .colab-df-buttons div {\n",
              "      margin-bottom: 4px;\n",
              "    }\n",
              "\n",
              "    [theme=dark] .colab-df-convert {\n",
              "      background-color: #3B4455;\n",
              "      fill: #D2E3FC;\n",
              "    }\n",
              "\n",
              "    [theme=dark] .colab-df-convert:hover {\n",
              "      background-color: #434B5C;\n",
              "      box-shadow: 0px 1px 3px 1px rgba(0, 0, 0, 0.15);\n",
              "      filter: drop-shadow(0px 1px 2px rgba(0, 0, 0, 0.3));\n",
              "      fill: #FFFFFF;\n",
              "    }\n",
              "  </style>\n",
              "\n",
              "    <script>\n",
              "      const buttonEl =\n",
              "        document.querySelector('#df-cdd2f04b-069e-45ca-814e-af8a8777b498 button.colab-df-convert');\n",
              "      buttonEl.style.display =\n",
              "        google.colab.kernel.accessAllowed ? 'block' : 'none';\n",
              "\n",
              "      async function convertToInteractive(key) {\n",
              "        const element = document.querySelector('#df-cdd2f04b-069e-45ca-814e-af8a8777b498');\n",
              "        const dataTable =\n",
              "          await google.colab.kernel.invokeFunction('convertToInteractive',\n",
              "                                                    [key], {});\n",
              "        if (!dataTable) return;\n",
              "\n",
              "        const docLinkHtml = 'Like what you see? Visit the ' +\n",
              "          '<a target=\"_blank\" href=https://colab.research.google.com/notebooks/data_table.ipynb>data table notebook</a>'\n",
              "          + ' to learn more about interactive tables.';\n",
              "        element.innerHTML = '';\n",
              "        dataTable['output_type'] = 'display_data';\n",
              "        await google.colab.output.renderOutput(dataTable, element);\n",
              "        const docLink = document.createElement('div');\n",
              "        docLink.innerHTML = docLinkHtml;\n",
              "        element.appendChild(docLink);\n",
              "      }\n",
              "    </script>\n",
              "  </div>\n",
              "\n",
              "\n",
              "<div id=\"df-8e8b8a99-fa77-4ef0-812c-47749194a1a5\">\n",
              "  <button class=\"colab-df-quickchart\" onclick=\"quickchart('df-8e8b8a99-fa77-4ef0-812c-47749194a1a5')\"\n",
              "            title=\"Suggest charts\"\n",
              "            style=\"display:none;\">\n",
              "\n",
              "<svg xmlns=\"http://www.w3.org/2000/svg\" height=\"24px\"viewBox=\"0 0 24 24\"\n",
              "     width=\"24px\">\n",
              "    <g>\n",
              "        <path d=\"M19 3H5c-1.1 0-2 .9-2 2v14c0 1.1.9 2 2 2h14c1.1 0 2-.9 2-2V5c0-1.1-.9-2-2-2zM9 17H7v-7h2v7zm4 0h-2V7h2v10zm4 0h-2v-4h2v4z\"/>\n",
              "    </g>\n",
              "</svg>\n",
              "  </button>\n",
              "\n",
              "<style>\n",
              "  .colab-df-quickchart {\n",
              "      --bg-color: #E8F0FE;\n",
              "      --fill-color: #1967D2;\n",
              "      --hover-bg-color: #E2EBFA;\n",
              "      --hover-fill-color: #174EA6;\n",
              "      --disabled-fill-color: #AAA;\n",
              "      --disabled-bg-color: #DDD;\n",
              "  }\n",
              "\n",
              "  [theme=dark] .colab-df-quickchart {\n",
              "      --bg-color: #3B4455;\n",
              "      --fill-color: #D2E3FC;\n",
              "      --hover-bg-color: #434B5C;\n",
              "      --hover-fill-color: #FFFFFF;\n",
              "      --disabled-bg-color: #3B4455;\n",
              "      --disabled-fill-color: #666;\n",
              "  }\n",
              "\n",
              "  .colab-df-quickchart {\n",
              "    background-color: var(--bg-color);\n",
              "    border: none;\n",
              "    border-radius: 50%;\n",
              "    cursor: pointer;\n",
              "    display: none;\n",
              "    fill: var(--fill-color);\n",
              "    height: 32px;\n",
              "    padding: 0;\n",
              "    width: 32px;\n",
              "  }\n",
              "\n",
              "  .colab-df-quickchart:hover {\n",
              "    background-color: var(--hover-bg-color);\n",
              "    box-shadow: 0 1px 2px rgba(60, 64, 67, 0.3), 0 1px 3px 1px rgba(60, 64, 67, 0.15);\n",
              "    fill: var(--button-hover-fill-color);\n",
              "  }\n",
              "\n",
              "  .colab-df-quickchart-complete:disabled,\n",
              "  .colab-df-quickchart-complete:disabled:hover {\n",
              "    background-color: var(--disabled-bg-color);\n",
              "    fill: var(--disabled-fill-color);\n",
              "    box-shadow: none;\n",
              "  }\n",
              "\n",
              "  .colab-df-spinner {\n",
              "    border: 2px solid var(--fill-color);\n",
              "    border-color: transparent;\n",
              "    border-bottom-color: var(--fill-color);\n",
              "    animation:\n",
              "      spin 1s steps(1) infinite;\n",
              "  }\n",
              "\n",
              "  @keyframes spin {\n",
              "    0% {\n",
              "      border-color: transparent;\n",
              "      border-bottom-color: var(--fill-color);\n",
              "      border-left-color: var(--fill-color);\n",
              "    }\n",
              "    20% {\n",
              "      border-color: transparent;\n",
              "      border-left-color: var(--fill-color);\n",
              "      border-top-color: var(--fill-color);\n",
              "    }\n",
              "    30% {\n",
              "      border-color: transparent;\n",
              "      border-left-color: var(--fill-color);\n",
              "      border-top-color: var(--fill-color);\n",
              "      border-right-color: var(--fill-color);\n",
              "    }\n",
              "    40% {\n",
              "      border-color: transparent;\n",
              "      border-right-color: var(--fill-color);\n",
              "      border-top-color: var(--fill-color);\n",
              "    }\n",
              "    60% {\n",
              "      border-color: transparent;\n",
              "      border-right-color: var(--fill-color);\n",
              "    }\n",
              "    80% {\n",
              "      border-color: transparent;\n",
              "      border-right-color: var(--fill-color);\n",
              "      border-bottom-color: var(--fill-color);\n",
              "    }\n",
              "    90% {\n",
              "      border-color: transparent;\n",
              "      border-bottom-color: var(--fill-color);\n",
              "    }\n",
              "  }\n",
              "</style>\n",
              "\n",
              "  <script>\n",
              "    async function quickchart(key) {\n",
              "      const quickchartButtonEl =\n",
              "        document.querySelector('#' + key + ' button');\n",
              "      quickchartButtonEl.disabled = true;  // To prevent multiple clicks.\n",
              "      quickchartButtonEl.classList.add('colab-df-spinner');\n",
              "      try {\n",
              "        const charts = await google.colab.kernel.invokeFunction(\n",
              "            'suggestCharts', [key], {});\n",
              "      } catch (error) {\n",
              "        console.error('Error during call to suggestCharts:', error);\n",
              "      }\n",
              "      quickchartButtonEl.classList.remove('colab-df-spinner');\n",
              "      quickchartButtonEl.classList.add('colab-df-quickchart-complete');\n",
              "    }\n",
              "    (() => {\n",
              "      let quickchartButtonEl =\n",
              "        document.querySelector('#df-8e8b8a99-fa77-4ef0-812c-47749194a1a5 button');\n",
              "      quickchartButtonEl.style.display =\n",
              "        google.colab.kernel.accessAllowed ? 'block' : 'none';\n",
              "    })();\n",
              "  </script>\n",
              "</div>\n",
              "    </div>\n",
              "  </div>\n"
            ]
          },
          "metadata": {},
          "execution_count": 115
        }
      ]
    },
    {
      "cell_type": "markdown",
      "source": [
        "**Finding Missing Value**"
      ],
      "metadata": {
        "id": "1tohNNWmUcrj"
      }
    },
    {
      "cell_type": "code",
      "source": [
        "df.isna().sum()"
      ],
      "metadata": {
        "colab": {
          "base_uri": "https://localhost:8080/"
        },
        "id": "3iXAEWaqTeUW",
        "outputId": "d32b81c6-6276-4d2f-f4bc-d78db4c6ed0a"
      },
      "execution_count": 116,
      "outputs": [
        {
          "output_type": "execute_result",
          "data": {
            "text/plain": [
              "headline    0\n",
              "time        0\n",
              "content     0\n",
              "link        0\n",
              "hoax        0\n",
              "dtype: int64"
            ]
          },
          "metadata": {},
          "execution_count": 116
        }
      ]
    },
    {
      "cell_type": "markdown",
      "source": [
        "**Implementasi Regex untuk membersihkan data yang diapit oleh kurung siku**"
      ],
      "metadata": {
        "id": "sFlv9AQ9Wsn0"
      }
    },
    {
      "cell_type": "code",
      "source": [
        "df['headline'] = df['headline'].str.replace(r'\\[.*?\\]|\\(.*?\\)', '', regex=True)"
      ],
      "metadata": {
        "id": "uaN1HvKFTrsg"
      },
      "execution_count": 117,
      "outputs": []
    },
    {
      "cell_type": "markdown",
      "source": [
        "**Removing space at the begining and the end of sentencec**"
      ],
      "metadata": {
        "id": "bDBOz5M6qa9O"
      }
    },
    {
      "cell_type": "code",
      "source": [
        "headline_strip = df['headline']\n",
        "list_new_headline = []\n",
        "print(len(headline_strip))\n",
        "for i in headline_strip:\n",
        "  list_new_headline.append(i.strip())\n",
        "print(len(list_new_headline))"
      ],
      "metadata": {
        "colab": {
          "base_uri": "https://localhost:8080/"
        },
        "id": "4xrIszsBX3vY",
        "outputId": "ebacbb71-89b7-4cfa-f1c2-750ffc4a8721"
      },
      "execution_count": 118,
      "outputs": [
        {
          "output_type": "stream",
          "name": "stdout",
          "text": [
            "322\n",
            "322\n"
          ]
        }
      ]
    },
    {
      "cell_type": "code",
      "source": [
        "df['headline'] = list_new_headline"
      ],
      "metadata": {
        "id": "6GsuHQkRW75j"
      },
      "execution_count": 119,
      "outputs": []
    },
    {
      "cell_type": "code",
      "source": [
        "df[['headline']]"
      ],
      "metadata": {
        "id": "mirNxarLYsWz",
        "colab": {
          "base_uri": "https://localhost:8080/",
          "height": 423
        },
        "outputId": "d5d97b7e-c27e-4126-8f08-20f15e455012"
      },
      "execution_count": 120,
      "outputs": [
        {
          "output_type": "execute_result",
          "data": {
            "text/plain": [
              "                                              headline\n",
              "0        Konvoi Bantuan Palestina Dirampas oleh Israel\n",
              "1    Video Polisi Israel Mencekik Anak Palestina di...\n",
              "2    Video Tentara Israel Memasang Bendera Israel d...\n",
              "3    Perusahaan Israel Pepsi Ubah Kemasan Bertulisa...\n",
              "4    Cristiano Ronaldo Lempar Mic Wartawan Israel k...\n",
              "..                                                 ...\n",
              "317  Menteri Agama Yaqut Cholil Berasal dari Kelomp...\n",
              "318  Tulisan Ridwan Kamil : “NIAT BUSUK KUBU SEBELA...\n",
              "319  Video “BERITA TERBARU ~ RONALDO SUMBANGKAN GAJ...\n",
              "320         Video “Kapal oleng di pelabuhan padangbae”\n",
              "321  “Guys! Tolong Jangan Beli Cokelat Snickers” | ...\n",
              "\n",
              "[322 rows x 1 columns]"
            ],
            "text/html": [
              "\n",
              "  <div id=\"df-9c08882c-91de-4b78-bc6f-b794a96f0812\" class=\"colab-df-container\">\n",
              "    <div>\n",
              "<style scoped>\n",
              "    .dataframe tbody tr th:only-of-type {\n",
              "        vertical-align: middle;\n",
              "    }\n",
              "\n",
              "    .dataframe tbody tr th {\n",
              "        vertical-align: top;\n",
              "    }\n",
              "\n",
              "    .dataframe thead th {\n",
              "        text-align: right;\n",
              "    }\n",
              "</style>\n",
              "<table border=\"1\" class=\"dataframe\">\n",
              "  <thead>\n",
              "    <tr style=\"text-align: right;\">\n",
              "      <th></th>\n",
              "      <th>headline</th>\n",
              "    </tr>\n",
              "  </thead>\n",
              "  <tbody>\n",
              "    <tr>\n",
              "      <th>0</th>\n",
              "      <td>Konvoi Bantuan Palestina Dirampas oleh Israel</td>\n",
              "    </tr>\n",
              "    <tr>\n",
              "      <th>1</th>\n",
              "      <td>Video Polisi Israel Mencekik Anak Palestina di...</td>\n",
              "    </tr>\n",
              "    <tr>\n",
              "      <th>2</th>\n",
              "      <td>Video Tentara Israel Memasang Bendera Israel d...</td>\n",
              "    </tr>\n",
              "    <tr>\n",
              "      <th>3</th>\n",
              "      <td>Perusahaan Israel Pepsi Ubah Kemasan Bertulisa...</td>\n",
              "    </tr>\n",
              "    <tr>\n",
              "      <th>4</th>\n",
              "      <td>Cristiano Ronaldo Lempar Mic Wartawan Israel k...</td>\n",
              "    </tr>\n",
              "    <tr>\n",
              "      <th>...</th>\n",
              "      <td>...</td>\n",
              "    </tr>\n",
              "    <tr>\n",
              "      <th>317</th>\n",
              "      <td>Menteri Agama Yaqut Cholil Berasal dari Kelomp...</td>\n",
              "    </tr>\n",
              "    <tr>\n",
              "      <th>318</th>\n",
              "      <td>Tulisan Ridwan Kamil : “NIAT BUSUK KUBU SEBELA...</td>\n",
              "    </tr>\n",
              "    <tr>\n",
              "      <th>319</th>\n",
              "      <td>Video “BERITA TERBARU ~ RONALDO SUMBANGKAN GAJ...</td>\n",
              "    </tr>\n",
              "    <tr>\n",
              "      <th>320</th>\n",
              "      <td>Video “Kapal oleng di pelabuhan padangbae”</td>\n",
              "    </tr>\n",
              "    <tr>\n",
              "      <th>321</th>\n",
              "      <td>“Guys! Tolong Jangan Beli Cokelat Snickers” | ...</td>\n",
              "    </tr>\n",
              "  </tbody>\n",
              "</table>\n",
              "<p>322 rows × 1 columns</p>\n",
              "</div>\n",
              "    <div class=\"colab-df-buttons\">\n",
              "\n",
              "  <div class=\"colab-df-container\">\n",
              "    <button class=\"colab-df-convert\" onclick=\"convertToInteractive('df-9c08882c-91de-4b78-bc6f-b794a96f0812')\"\n",
              "            title=\"Convert this dataframe to an interactive table.\"\n",
              "            style=\"display:none;\">\n",
              "\n",
              "  <svg xmlns=\"http://www.w3.org/2000/svg\" height=\"24px\" viewBox=\"0 -960 960 960\">\n",
              "    <path d=\"M120-120v-720h720v720H120Zm60-500h600v-160H180v160Zm220 220h160v-160H400v160Zm0 220h160v-160H400v160ZM180-400h160v-160H180v160Zm440 0h160v-160H620v160ZM180-180h160v-160H180v160Zm440 0h160v-160H620v160Z\"/>\n",
              "  </svg>\n",
              "    </button>\n",
              "\n",
              "  <style>\n",
              "    .colab-df-container {\n",
              "      display:flex;\n",
              "      gap: 12px;\n",
              "    }\n",
              "\n",
              "    .colab-df-convert {\n",
              "      background-color: #E8F0FE;\n",
              "      border: none;\n",
              "      border-radius: 50%;\n",
              "      cursor: pointer;\n",
              "      display: none;\n",
              "      fill: #1967D2;\n",
              "      height: 32px;\n",
              "      padding: 0 0 0 0;\n",
              "      width: 32px;\n",
              "    }\n",
              "\n",
              "    .colab-df-convert:hover {\n",
              "      background-color: #E2EBFA;\n",
              "      box-shadow: 0px 1px 2px rgba(60, 64, 67, 0.3), 0px 1px 3px 1px rgba(60, 64, 67, 0.15);\n",
              "      fill: #174EA6;\n",
              "    }\n",
              "\n",
              "    .colab-df-buttons div {\n",
              "      margin-bottom: 4px;\n",
              "    }\n",
              "\n",
              "    [theme=dark] .colab-df-convert {\n",
              "      background-color: #3B4455;\n",
              "      fill: #D2E3FC;\n",
              "    }\n",
              "\n",
              "    [theme=dark] .colab-df-convert:hover {\n",
              "      background-color: #434B5C;\n",
              "      box-shadow: 0px 1px 3px 1px rgba(0, 0, 0, 0.15);\n",
              "      filter: drop-shadow(0px 1px 2px rgba(0, 0, 0, 0.3));\n",
              "      fill: #FFFFFF;\n",
              "    }\n",
              "  </style>\n",
              "\n",
              "    <script>\n",
              "      const buttonEl =\n",
              "        document.querySelector('#df-9c08882c-91de-4b78-bc6f-b794a96f0812 button.colab-df-convert');\n",
              "      buttonEl.style.display =\n",
              "        google.colab.kernel.accessAllowed ? 'block' : 'none';\n",
              "\n",
              "      async function convertToInteractive(key) {\n",
              "        const element = document.querySelector('#df-9c08882c-91de-4b78-bc6f-b794a96f0812');\n",
              "        const dataTable =\n",
              "          await google.colab.kernel.invokeFunction('convertToInteractive',\n",
              "                                                    [key], {});\n",
              "        if (!dataTable) return;\n",
              "\n",
              "        const docLinkHtml = 'Like what you see? Visit the ' +\n",
              "          '<a target=\"_blank\" href=https://colab.research.google.com/notebooks/data_table.ipynb>data table notebook</a>'\n",
              "          + ' to learn more about interactive tables.';\n",
              "        element.innerHTML = '';\n",
              "        dataTable['output_type'] = 'display_data';\n",
              "        await google.colab.output.renderOutput(dataTable, element);\n",
              "        const docLink = document.createElement('div');\n",
              "        docLink.innerHTML = docLinkHtml;\n",
              "        element.appendChild(docLink);\n",
              "      }\n",
              "    </script>\n",
              "  </div>\n",
              "\n",
              "\n",
              "<div id=\"df-896e692a-e7c0-43d5-8695-0d4e5e292243\">\n",
              "  <button class=\"colab-df-quickchart\" onclick=\"quickchart('df-896e692a-e7c0-43d5-8695-0d4e5e292243')\"\n",
              "            title=\"Suggest charts\"\n",
              "            style=\"display:none;\">\n",
              "\n",
              "<svg xmlns=\"http://www.w3.org/2000/svg\" height=\"24px\"viewBox=\"0 0 24 24\"\n",
              "     width=\"24px\">\n",
              "    <g>\n",
              "        <path d=\"M19 3H5c-1.1 0-2 .9-2 2v14c0 1.1.9 2 2 2h14c1.1 0 2-.9 2-2V5c0-1.1-.9-2-2-2zM9 17H7v-7h2v7zm4 0h-2V7h2v10zm4 0h-2v-4h2v4z\"/>\n",
              "    </g>\n",
              "</svg>\n",
              "  </button>\n",
              "\n",
              "<style>\n",
              "  .colab-df-quickchart {\n",
              "      --bg-color: #E8F0FE;\n",
              "      --fill-color: #1967D2;\n",
              "      --hover-bg-color: #E2EBFA;\n",
              "      --hover-fill-color: #174EA6;\n",
              "      --disabled-fill-color: #AAA;\n",
              "      --disabled-bg-color: #DDD;\n",
              "  }\n",
              "\n",
              "  [theme=dark] .colab-df-quickchart {\n",
              "      --bg-color: #3B4455;\n",
              "      --fill-color: #D2E3FC;\n",
              "      --hover-bg-color: #434B5C;\n",
              "      --hover-fill-color: #FFFFFF;\n",
              "      --disabled-bg-color: #3B4455;\n",
              "      --disabled-fill-color: #666;\n",
              "  }\n",
              "\n",
              "  .colab-df-quickchart {\n",
              "    background-color: var(--bg-color);\n",
              "    border: none;\n",
              "    border-radius: 50%;\n",
              "    cursor: pointer;\n",
              "    display: none;\n",
              "    fill: var(--fill-color);\n",
              "    height: 32px;\n",
              "    padding: 0;\n",
              "    width: 32px;\n",
              "  }\n",
              "\n",
              "  .colab-df-quickchart:hover {\n",
              "    background-color: var(--hover-bg-color);\n",
              "    box-shadow: 0 1px 2px rgba(60, 64, 67, 0.3), 0 1px 3px 1px rgba(60, 64, 67, 0.15);\n",
              "    fill: var(--button-hover-fill-color);\n",
              "  }\n",
              "\n",
              "  .colab-df-quickchart-complete:disabled,\n",
              "  .colab-df-quickchart-complete:disabled:hover {\n",
              "    background-color: var(--disabled-bg-color);\n",
              "    fill: var(--disabled-fill-color);\n",
              "    box-shadow: none;\n",
              "  }\n",
              "\n",
              "  .colab-df-spinner {\n",
              "    border: 2px solid var(--fill-color);\n",
              "    border-color: transparent;\n",
              "    border-bottom-color: var(--fill-color);\n",
              "    animation:\n",
              "      spin 1s steps(1) infinite;\n",
              "  }\n",
              "\n",
              "  @keyframes spin {\n",
              "    0% {\n",
              "      border-color: transparent;\n",
              "      border-bottom-color: var(--fill-color);\n",
              "      border-left-color: var(--fill-color);\n",
              "    }\n",
              "    20% {\n",
              "      border-color: transparent;\n",
              "      border-left-color: var(--fill-color);\n",
              "      border-top-color: var(--fill-color);\n",
              "    }\n",
              "    30% {\n",
              "      border-color: transparent;\n",
              "      border-left-color: var(--fill-color);\n",
              "      border-top-color: var(--fill-color);\n",
              "      border-right-color: var(--fill-color);\n",
              "    }\n",
              "    40% {\n",
              "      border-color: transparent;\n",
              "      border-right-color: var(--fill-color);\n",
              "      border-top-color: var(--fill-color);\n",
              "    }\n",
              "    60% {\n",
              "      border-color: transparent;\n",
              "      border-right-color: var(--fill-color);\n",
              "    }\n",
              "    80% {\n",
              "      border-color: transparent;\n",
              "      border-right-color: var(--fill-color);\n",
              "      border-bottom-color: var(--fill-color);\n",
              "    }\n",
              "    90% {\n",
              "      border-color: transparent;\n",
              "      border-bottom-color: var(--fill-color);\n",
              "    }\n",
              "  }\n",
              "</style>\n",
              "\n",
              "  <script>\n",
              "    async function quickchart(key) {\n",
              "      const quickchartButtonEl =\n",
              "        document.querySelector('#' + key + ' button');\n",
              "      quickchartButtonEl.disabled = true;  // To prevent multiple clicks.\n",
              "      quickchartButtonEl.classList.add('colab-df-spinner');\n",
              "      try {\n",
              "        const charts = await google.colab.kernel.invokeFunction(\n",
              "            'suggestCharts', [key], {});\n",
              "      } catch (error) {\n",
              "        console.error('Error during call to suggestCharts:', error);\n",
              "      }\n",
              "      quickchartButtonEl.classList.remove('colab-df-spinner');\n",
              "      quickchartButtonEl.classList.add('colab-df-quickchart-complete');\n",
              "    }\n",
              "    (() => {\n",
              "      let quickchartButtonEl =\n",
              "        document.querySelector('#df-896e692a-e7c0-43d5-8695-0d4e5e292243 button');\n",
              "      quickchartButtonEl.style.display =\n",
              "        google.colab.kernel.accessAllowed ? 'block' : 'none';\n",
              "    })();\n",
              "  </script>\n",
              "</div>\n",
              "    </div>\n",
              "  </div>\n"
            ]
          },
          "metadata": {},
          "execution_count": 120
        }
      ]
    },
    {
      "cell_type": "markdown",
      "source": [
        "**Cleaning content datasets which has no meaning**"
      ],
      "metadata": {
        "id": "EYzeLYn7wLTO"
      }
    },
    {
      "cell_type": "code",
      "source": [
        "df['content'].iloc[0]"
      ],
      "metadata": {
        "colab": {
          "base_uri": "https://localhost:8080/",
          "height": 244
        },
        "id": "vFnIHpETwfoK",
        "outputId": "a11abac1-9a03-48a0-97b8-10de87cff713"
      },
      "execution_count": 121,
      "outputs": [
        {
          "output_type": "execute_result",
          "data": {
            "text/plain": [
              "'Hasil periksa fakta Vendra PanjiDalam video aslinya tersebut tidak berisi penjelasan adanya peristiwa perampasan yang dilakukan oleh Israel. Truk-truk tersebut berhenti karena sedang dalam proses untuk melewati perbatasan Rafah, yaitu perbatasan antara Mesir dengan Gaza.===========[KATEGORI]: Konten dimanipulasi===========[SUMBER]: Tiktok https://archive.cob.web.id/archive/1700676627.275035/index.html\\xa0===========[NARASI]: “Ini Gambaran Konvoi Bantuan Untuk Palestina Yang Di Rampas ISRAELSebarkan Agar Dunia Tau Betapa K3J@m ISRAEL”===========[PENJELASAN]:\\xa0Sebuah video di Tiktok memperlihatkan banyak sekali truk yang terparkir memanjang, video itu juga disertai dengan narasi jika truk-truk tersebut merupakan bantuan untuk Palestina yang sedang dirampas Israel.Namun, setelah ditelusuri rupanya potongan video tersebut berasal dari sebuah media asal Mesir bernama Al Nahar, video itu diunggah di Facebook pada 31 Mei 2021 lalu. Video juga disertai dengan caption berbahasa Arab yang jika diterjemahkan artinya adalah ““For the third time.. #Egypt sends the largest convoys of support and aid to the Palestinians in #Gaza,”.Dalam video aslinya tersebut tidak berisi penjelasan adanya peristiwa perampasan yang dilakukan oleh Israel. Truk-truk tersebut berhenti karena sedang dalam proses untuk melewati perbatasan Rafah, yaitu perbatasan antara Mesir dengan Gaza.Sehingga dapat disimpulkan jika klaim yang mengatakan video tersebut merupakan perampasan bantuan Palestina oleh Israel adalah tidak benar. Truk tersebut berhenti dikarenakan sedang dalam proses untuk melewati perbatasan Rafah.===========\\xa0[REFERENSI] :https://www.facebook.com/watch/?ref=embed_video&v=563146664690735https://pesacheck.org/false-this-video-is-not-of-aid-vehicles-stalled-at-the-rafah-border-in-2023-d648991a7e68'"
            ],
            "application/vnd.google.colaboratory.intrinsic+json": {
              "type": "string"
            }
          },
          "metadata": {},
          "execution_count": 121
        }
      ]
    },
    {
      "cell_type": "code",
      "source": [
        "df['content'] = df['content'].str.replace('=', '')"
      ],
      "metadata": {
        "id": "8nUk9-zFw_2z"
      },
      "execution_count": 122,
      "outputs": []
    },
    {
      "cell_type": "code",
      "source": [
        "df['content'] = df['content'].str.replace(r'\\[.*?\\]|\\(.*?\\)', '', regex=True)"
      ],
      "metadata": {
        "id": "X63CSfsFzBpq"
      },
      "execution_count": 123,
      "outputs": []
    },
    {
      "cell_type": "code",
      "source": [
        "df['content'].iloc[0]"
      ],
      "metadata": {
        "colab": {
          "base_uri": "https://localhost:8080/",
          "height": 244
        },
        "id": "nczMW-jrzF0L",
        "outputId": "42c6b06d-2745-4e15-e05c-e5dbfeb3d373"
      },
      "execution_count": 124,
      "outputs": [
        {
          "output_type": "execute_result",
          "data": {
            "text/plain": [
              "'Hasil periksa fakta Vendra PanjiDalam video aslinya tersebut tidak berisi penjelasan adanya peristiwa perampasan yang dilakukan oleh Israel. Truk-truk tersebut berhenti karena sedang dalam proses untuk melewati perbatasan Rafah, yaitu perbatasan antara Mesir dengan Gaza.: Konten dimanipulasi: Tiktok https://archive.cob.web.id/archive/1700676627.275035/index.html\\xa0: “Ini Gambaran Konvoi Bantuan Untuk Palestina Yang Di Rampas ISRAELSebarkan Agar Dunia Tau Betapa K3J@m ISRAEL”:\\xa0Sebuah video di Tiktok memperlihatkan banyak sekali truk yang terparkir memanjang, video itu juga disertai dengan narasi jika truk-truk tersebut merupakan bantuan untuk Palestina yang sedang dirampas Israel.Namun, setelah ditelusuri rupanya potongan video tersebut berasal dari sebuah media asal Mesir bernama Al Nahar, video itu diunggah di Facebook pada 31 Mei 2021 lalu. Video juga disertai dengan caption berbahasa Arab yang jika diterjemahkan artinya adalah ““For the third time.. #Egypt sends the largest convoys of support and aid to the Palestinians in #Gaza,”.Dalam video aslinya tersebut tidak berisi penjelasan adanya peristiwa perampasan yang dilakukan oleh Israel. Truk-truk tersebut berhenti karena sedang dalam proses untuk melewati perbatasan Rafah, yaitu perbatasan antara Mesir dengan Gaza.Sehingga dapat disimpulkan jika klaim yang mengatakan video tersebut merupakan perampasan bantuan Palestina oleh Israel adalah tidak benar. Truk tersebut berhenti dikarenakan sedang dalam proses untuk melewati perbatasan Rafah.\\xa0 :https://www.facebook.com/watch/?refembed_video&v563146664690735https://pesacheck.org/false-this-video-is-not-of-aid-vehicles-stalled-at-the-rafah-border-in-2023-d648991a7e68'"
            ],
            "application/vnd.google.colaboratory.intrinsic+json": {
              "type": "string"
            }
          },
          "metadata": {},
          "execution_count": 124
        }
      ]
    },
    {
      "cell_type": "markdown",
      "source": [
        "Implementing Stopwords to remove the common words"
      ],
      "metadata": {
        "id": "Q6hsA9J-wnbO"
      }
    },
    {
      "cell_type": "code",
      "source": [
        "import nltk\n",
        "from nltk.corpus import stopwords\n",
        "from nltk.tokenize import word_tokenize"
      ],
      "metadata": {
        "id": "vwmnIgbvsoGm"
      },
      "execution_count": 125,
      "outputs": []
    },
    {
      "cell_type": "code",
      "source": [
        "nltk.download('stopwords')\n",
        "nltk.download('punkt')\n",
        "# nltk.download('indonesian')\n",
        "# stop_words = set(stopwords.words('indonesian'))"
      ],
      "metadata": {
        "colab": {
          "base_uri": "https://localhost:8080/"
        },
        "id": "AscSgBfZtN8k",
        "outputId": "e19fb987-6572-44b0-c1bf-5358a9cbde2d"
      },
      "execution_count": 126,
      "outputs": [
        {
          "output_type": "stream",
          "name": "stderr",
          "text": [
            "[nltk_data] Downloading package stopwords to /root/nltk_data...\n",
            "[nltk_data]   Package stopwords is already up-to-date!\n",
            "[nltk_data] Downloading package punkt to /root/nltk_data...\n",
            "[nltk_data]   Package punkt is already up-to-date!\n"
          ]
        },
        {
          "output_type": "execute_result",
          "data": {
            "text/plain": [
              "True"
            ]
          },
          "metadata": {},
          "execution_count": 126
        }
      ]
    },
    {
      "cell_type": "code",
      "source": [
        "stop_words_file = 'stopwords_indonesian.txt'\n",
        "with open(stop_words_file, 'r') as file:\n",
        "    stop_words = set(file.read().splitlines())\n",
        "\n",
        "print(len(stop_words))"
      ],
      "metadata": {
        "colab": {
          "base_uri": "https://localhost:8080/"
        },
        "id": "cZ9GfCd3vKHS",
        "outputId": "ded74849-7deb-45ba-9211-e4b4980840af"
      },
      "execution_count": 127,
      "outputs": [
        {
          "output_type": "stream",
          "name": "stdout",
          "text": [
            "757\n"
          ]
        }
      ]
    },
    {
      "cell_type": "code",
      "source": [
        "cleaned_content = []\n",
        "for index in df['content']:\n",
        "  word_tokens = word_tokenize(index)\n",
        "  filtered_sentence = [w for w in word_tokens if not w.lower() in stop_words]\n",
        "  cleaned_content.append(' '.join(filtered_sentence))\n",
        "\n",
        "print(len(cleaned_content))"
      ],
      "metadata": {
        "colab": {
          "base_uri": "https://localhost:8080/"
        },
        "id": "o1K_e9x0tjAq",
        "outputId": "2c1ead27-6940-4679-c2f8-5467fca7c4c1"
      },
      "execution_count": 128,
      "outputs": [
        {
          "output_type": "stream",
          "name": "stdout",
          "text": [
            "322\n"
          ]
        }
      ]
    },
    {
      "cell_type": "code",
      "source": [
        "df['content'] = cleaned_content"
      ],
      "metadata": {
        "id": "gusWbSifuXBa"
      },
      "execution_count": 130,
      "outputs": []
    },
    {
      "cell_type": "code",
      "source": [
        "df['content'].iloc[29]"
      ],
      "metadata": {
        "colab": {
          "base_uri": "https://localhost:8080/",
          "height": 244
        },
        "id": "SZP72Rf0zVYR",
        "outputId": "31ed42aa-81de-4351-a66c-d935286f06ce"
      },
      "execution_count": 131,
      "outputs": [
        {
          "output_type": "execute_result",
          "data": {
            "text/plain": [
              "'Hasil periksa fakta Mochamad MarcellFaktanya video diambil perayaan kembang api Aljazair klub bola CR Belouizdad memenangkan kejuaraan Aljazair 2020 . Selengkapnya penjelasan . Kategori : Konteks Salah Sumber : Twitterhttps : //ghostarchive.org/archive/aHJCM Narasi : “ Hell on Earth Gaza . War is a bad thing for humanity . Innocent people do not deserve to live in this chaos . Stop the war ! # Israel # Palestine # Gaza # Hamas ” Terjemahan : “ Neraka Bumi Gaza . Perang buruk umat manusia . Orang bersalah hidup kekacauan . Hentikan perang ! # Israel # Palestina # Gaza # Hamas ” Penjelasan : Video Twitter kota terbakar malam diklaim Gaza akibat serangan Israel jalur Gaza.Setelah ditelusuri klaim salah , faktanya video diambil Aljazair perayaan kembang api klub bola CR Belouizdad memenangkan kejuaraan Aljazair 2020 . Wartawan AFP mengonfirmasi rekaman tersebar internet kali 27 September 2023 , seminggu Hamas menyerang Israel 7 Oktober 2023.Dengan , video Gaza terbakar diserang Israel kategori Konteks Salah . Referensi : https : //factcheck.afp.com/doc.afp.com.33XM7CC'"
            ],
            "application/vnd.google.colaboratory.intrinsic+json": {
              "type": "string"
            }
          },
          "metadata": {},
          "execution_count": 131
        }
      ]
    },
    {
      "cell_type": "markdown",
      "source": [
        "Splitting times data into three columns, date, month, year"
      ],
      "metadata": {
        "id": "nAOW9tPxz_jS"
      }
    },
    {
      "cell_type": "code",
      "source": [
        "from datetime import datetime"
      ],
      "metadata": {
        "id": "v0meRuYS1Tsu"
      },
      "execution_count": 102,
      "outputs": []
    },
    {
      "cell_type": "code",
      "source": [
        "df['time'].iloc[317]"
      ],
      "metadata": {
        "colab": {
          "base_uri": "https://localhost:8080/",
          "height": 35
        },
        "id": "w7-l3lZ-1jMq",
        "outputId": "5eb6ce99-30f5-4959-ddf1-209907f6a244"
      },
      "execution_count": 132,
      "outputs": [
        {
          "output_type": "execute_result",
          "data": {
            "text/plain": [
              "'Mei 5, 2021'"
            ],
            "application/vnd.google.colaboratory.intrinsic+json": {
              "type": "string"
            }
          },
          "metadata": {},
          "execution_count": 132
        }
      ]
    },
    {
      "cell_type": "code",
      "source": [
        "df['date'] = ''\n",
        "df['month'] = ''\n",
        "df['year'] = ''\n",
        "\n",
        "def split_date(date_string):\n",
        "    match = re.match(r'(\\w+) (\\d+), (\\d+)', date_string)\n",
        "    if match:\n",
        "        month, date, year = match.groups()\n",
        "        return month, int(date), int(year)\n",
        "    return None, None, None\n",
        "\n",
        "for index, row in df[['time']].iterrows():\n",
        "    month, date, year = split_date(row['time'])\n",
        "    if all([month, date, year]):\n",
        "        df.at[index, 'month'] = month\n",
        "        df.at[index, 'date'] = date\n",
        "        df.at[index, 'year'] = year"
      ],
      "metadata": {
        "id": "iGdLwq0Pz60a"
      },
      "execution_count": 133,
      "outputs": []
    },
    {
      "cell_type": "code",
      "source": [
        "df['month'].unique()"
      ],
      "metadata": {
        "colab": {
          "base_uri": "https://localhost:8080/"
        },
        "id": "ZHqaOquI2uId",
        "outputId": "8bca4c8f-55a3-4eed-bc66-18e3bbb0d034"
      },
      "execution_count": 134,
      "outputs": [
        {
          "output_type": "execute_result",
          "data": {
            "text/plain": [
              "array(['November', 'Oktober', 'September', 'Juni', 'Mei', 'April',\n",
              "       'Maret', 'Januari', 'Desember', 'Februari', 'Juli', 'Agustus'],\n",
              "      dtype=object)"
            ]
          },
          "metadata": {},
          "execution_count": 134
        }
      ]
    },
    {
      "cell_type": "code",
      "source": [
        "df['year'].unique()"
      ],
      "metadata": {
        "colab": {
          "base_uri": "https://localhost:8080/"
        },
        "id": "p25Fiqpd-oeL",
        "outputId": "0feefa8e-5f88-4cf2-85c2-76d8b027f3c9"
      },
      "execution_count": 135,
      "outputs": [
        {
          "output_type": "execute_result",
          "data": {
            "text/plain": [
              "array([2023, 2022, 2021, 2020, 2019, 2018, 2017, 2016, 2015], dtype=object)"
            ]
          },
          "metadata": {},
          "execution_count": 135
        }
      ]
    },
    {
      "cell_type": "code",
      "source": [
        "df['date'].nunique()"
      ],
      "metadata": {
        "colab": {
          "base_uri": "https://localhost:8080/"
        },
        "id": "kVTpLdGe-zW1",
        "outputId": "fc212097-9488-4901-db55-787f4636c2cf"
      },
      "execution_count": 136,
      "outputs": [
        {
          "output_type": "execute_result",
          "data": {
            "text/plain": [
              "31"
            ]
          },
          "metadata": {},
          "execution_count": 136
        }
      ]
    },
    {
      "cell_type": "code",
      "source": [
        "df.isna().sum()"
      ],
      "metadata": {
        "colab": {
          "base_uri": "https://localhost:8080/"
        },
        "id": "of6yTS4UAZDG",
        "outputId": "3a61aa91-71ec-4afa-b209-d5a580b9b471"
      },
      "execution_count": 140,
      "outputs": [
        {
          "output_type": "execute_result",
          "data": {
            "text/plain": [
              "headline    0\n",
              "time        0\n",
              "content     0\n",
              "link        0\n",
              "hoax        0\n",
              "date        0\n",
              "month       0\n",
              "year        0\n",
              "dtype: int64"
            ]
          },
          "metadata": {},
          "execution_count": 140
        }
      ]
    },
    {
      "cell_type": "code",
      "source": [
        "df = df[['headline','date','month','year','content','link','hoax']]"
      ],
      "metadata": {
        "id": "Au1wVsyq_mee"
      },
      "execution_count": 141,
      "outputs": []
    },
    {
      "cell_type": "code",
      "source": [
        "df.to_csv('data_turnbackhoax_clean.csv', index = False)"
      ],
      "metadata": {
        "id": "avv5z_9mAFVF"
      },
      "execution_count": 144,
      "outputs": []
    }
  ]
}